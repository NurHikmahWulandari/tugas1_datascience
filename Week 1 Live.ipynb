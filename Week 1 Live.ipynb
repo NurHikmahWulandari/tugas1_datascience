{
 "cells": [
  {
   "cell_type": "markdown",
   "id": "3f4b663c",
   "metadata": {},
   "source": [
    "# Week 1 Review Exercises\n"
   ]
  },
  {
   "cell_type": "markdown",
   "id": "ada58c46",
   "metadata": {},
   "source": [
    "Q1. Data Types\n",
    "\n",
    "What is the data type of the variable `pop`?"
   ]
  },
  {
   "cell_type": "code",
   "execution_count": null,
   "id": "31e9614b",
   "metadata": {},
   "outputs": [],
   "source": [
    "pop = 5.8"
   ]
  },
  {
   "cell_type": "code",
   "execution_count": 2,
   "id": "caf77385",
   "metadata": {},
   "outputs": [
    {
     "name": "stdout",
     "output_type": "stream",
     "text": [
      "<class 'float'>\n"
     ]
    }
   ],
   "source": [
    "pop = 5.8\n",
    "print(type(pop))"
   ]
  },
  {
   "cell_type": "markdown",
   "id": "b19b8600",
   "metadata": {},
   "source": [
    "Q2. Which of the following is a valid variable name of of population below 15 years old?\n"
   ]
  },
  {
   "cell_type": "code",
   "execution_count": null,
   "id": "1017fbad",
   "metadata": {},
   "outputs": [],
   "source": [
    "# which line won't give an error? Comment out the ones that do!\n",
    "#15_years_and_below = 12.33\n",
    "# %_pop_15_below = 12.33\n",
    "# _15&below_pop = 12.33\n",
    "_15_below_pop = 12.33"
   ]
  },
  {
   "cell_type": "markdown",
   "id": "6227288b",
   "metadata": {},
   "source": [
    "Q3. What will be stored in `result`?"
   ]
  },
  {
   "cell_type": "code",
   "execution_count": 35,
   "id": "53a3b6fd",
   "metadata": {},
   "outputs": [
    {
     "name": "stdout",
     "output_type": "stream",
     "text": [
      "result = 17\n"
     ]
    }
   ],
   "source": [
    "result = 3 + 4 ** 2 - (5 // 2)\n",
    "print(\"result =\",3 + 4 ** 2 - (5 // 2))"
   ]
  },
  {
   "cell_type": "markdown",
   "id": "4b2b1ba6",
   "metadata": {},
   "source": [
    "Q4. If Singapore has an estimated population of 5.85 million and the land area is 700 square kilometers, what is the population density (number of people per KM)? \n"
   ]
  },
  {
   "cell_type": "code",
   "execution_count": 98,
   "id": "3b3dd8d9",
   "metadata": {},
   "outputs": [
    {
     "name": "stdout",
     "output_type": "stream",
     "text": [
      "8357.0 people per KM\n"
     ]
    }
   ],
   "source": [
    "# Estimated total Population of Singapore, in millions\n",
    "total_pop_millions = 5.85\n",
    "\n",
    "# Total land area, in KM\n",
    "land_area = 700\n",
    "\n",
    "# convert total population (millions to individuals)\n",
    "total_pop = total_pop_millions * 1000000      \n",
    "\n",
    "# population density\n",
    "pop_density = total_pop // land_area\n",
    "print(pop_density, \"people per KM\")"
   ]
  },
  {
   "cell_type": "markdown",
   "id": "8a8b4f48",
   "metadata": {},
   "source": [
    "Q5. Write a function called `pop_density()` that receives two arguments:\n",
    "1. the population, recorded in millions, `population_mil`\n",
    "2. the land area, in square kilometres, `land_area_sqkm`\n",
    "\n",
    "The function should calculate and return the population density. \n"
   ]
  },
  {
   "cell_type": "code",
   "execution_count": 96,
   "id": "cec3ad43",
   "metadata": {},
   "outputs": [
    {
     "name": "stdout",
     "output_type": "stream",
     "text": [
      "8357.0 people per KM\n"
     ]
    }
   ],
   "source": [
    "def pop_density(population_mil, land_area_sqkm): \n",
    "    # convert total population (millions to individuals)\n",
    "    population = population_mil * 1000000\n",
    "\n",
    "    # calculate population density\n",
    "    density = population // land_area_sqkm\n",
    "\n",
    "    # return the population density\n",
    "    return density\n",
    "\n",
    "# total Population and Total land area\n",
    "population_mil = 5.85\n",
    "land_area_sqkm = 700\n",
    "\n",
    "# print the result\n",
    "population_density = pop_density(population_mil, land_area_sqkm)\n",
    "print(population_density,  \"people per KM\")"
   ]
  },
  {
   "cell_type": "markdown",
   "id": "9c7711c8",
   "metadata": {},
   "source": [
    "Q6. Call the function you have written to calculate and display the population density of Hong Kong: 7.50 million people in a land area of 1050 km squared \n"
   ]
  },
  {
   "cell_type": "code",
   "execution_count": 97,
   "id": "a2b27625",
   "metadata": {},
   "outputs": [
    {
     "name": "stdout",
     "output_type": "stream",
     "text": [
      "7142.0 people per KM\n"
     ]
    }
   ],
   "source": [
    "def pop_density(population_mil, land_area_sqkm): \n",
    "    # convert total population (millions to individuals)\n",
    "    population = population_mil * 1000000\n",
    "\n",
    "    # calculate population density\n",
    "    density = population // land_area_sqkm\n",
    "\n",
    "    # return the population density\n",
    "    return density\n",
    "\n",
    "# total Population and Total land area of HongKong\n",
    "population_mil = 7.50\n",
    "land_area_sqkm = 1050\n",
    "\n",
    "# print the result\n",
    "population_density = pop_density(population_mil, land_area_sqkm)\n",
    "print(population_density,  \"people per KM\")"
   ]
  },
  {
   "cell_type": "markdown",
   "id": "43cbdd91",
   "metadata": {},
   "source": [
    "Q7. Using the `pop_density()` function, calculate the population density of Singapore and then use comparison operators to compare the population densities of Singapore and Hong Kong.\n",
    "\n",
    "Singapore's population: 5.85 million\n",
    "Singapore's land area: 700 sq km\n",
    "\n",
    "(Data From [Worldometers](http://worldometers.info))\n"
   ]
  },
  {
   "cell_type": "code",
   "execution_count": 52,
   "id": "626d47c8",
   "metadata": {},
   "outputs": [
    {
     "name": "stdout",
     "output_type": "stream",
     "text": [
      "Singapore has a higher population density than HongKong.\n"
     ]
    }
   ],
   "source": [
    "def pop_density(population_mil, land_area_sqkm): \n",
    "    # convert total population (millions to individuals)\n",
    "    population = population_mil * 1000000\n",
    "\n",
    "    # calculate population density\n",
    "    density = population / land_area_sqkm\n",
    "\n",
    "    # return the population density\n",
    "    return density\n",
    "\n",
    "# total Population and Total land area Of Singapore\n",
    "population_mil_sp = 5.85\n",
    "land_area_sqkm_sp = 700\n",
    "\n",
    "# calculate population densities Of Singapore\n",
    "pop_density_sp = pop_density(population_mil_sp, land_area_sqkm_sp)\n",
    "\n",
    "# total Population and Total land area Of HongKong\n",
    "population_mil_hk = 7.50\n",
    "land_area_sqkm_hk = 1050\n",
    "\n",
    "# calculate population densities Of HongKong\n",
    "pop_density_hk = pop_density(population_mil_hk, land_area_sqkm_hk)\n",
    "\n",
    "# compare the population densities of Singapore and Hong Kong\n",
    "if pop_density_sp > pop_density_hk:\n",
    "    print(\"Singapore has a higher population density than HongKong.\")\n",
    "elif pop_density_sp < pop_density_hk:\n",
    "    print(\"HongKong has a higher population density than Singapore.\")\n",
    "else:\n",
    "    print(\"Singapore and HongKong have the same population density\")"
   ]
  },
  {
   "cell_type": "markdown",
   "id": "cc1768c5",
   "metadata": {},
   "source": [
    "Q8. Let's add another area to compare: Macao's population is 0.65 million in a land area of 30 sq km. Find out whether Singapore's population density is higher than BOTH Hong Kong and Macao."
   ]
  },
  {
   "cell_type": "code",
   "execution_count": 55,
   "id": "55aeec5c",
   "metadata": {},
   "outputs": [
    {
     "name": "stdout",
     "output_type": "stream",
     "text": [
      "Singapore's population density is not higher than both Hong Kong and Macao.\n"
     ]
    }
   ],
   "source": [
    "def pop_density(population_mil, land_area_sqkm): \n",
    "    # convert total population (millions to individuals)\n",
    "    population = population_mil * 1000000\n",
    "\n",
    "    # calculate population density\n",
    "    density = population / land_area_sqkm\n",
    "\n",
    "    # return the population density\n",
    "    return density\n",
    "\n",
    "# population densidensitiesty Of Singapore\n",
    "population_mil_sp = 5.85\n",
    "land_area_sqkm_sp = 700\n",
    "pop_density_sp = pop_density(population_mil_sp, land_area_sqkm_sp)\n",
    "\n",
    "# population densities Of HongKong\n",
    "population_mil_hk = 7.50\n",
    "land_area_sqkm_hk = 1050\n",
    "pop_density_hk = pop_density(population_mil_hk, land_area_sqkm_hk)\n",
    "\n",
    "# population densities Of Macao\n",
    "population_mil_mc = 0.65\n",
    "land_area_sqkm_mc = 30\n",
    "pop_density_mc = pop_density(population_mil_mc, land_area_sqkm_mc)\n",
    "\n",
    "# compare the population densities of Singapore and Hong Kong\n",
    "if pop_density_sp > pop_density_hk and pop_density_sp > pop_density_mc:\n",
    "    print(\"Singapore has a higher population density than both Hong Kong and Macao.\")\n",
    "else:\n",
    "    print(\"Singapore's population density is not higher than both Hong Kong and Macao.\")\n"
   ]
  },
  {
   "cell_type": "markdown",
   "id": "66b284ff",
   "metadata": {},
   "source": [
    "Q9. Write a function called compare_density() that receives two arguments representing the population densities of two areas. The function will compare the two values and print one of the following strings:\n",
    "- “Area 1 has higher density”\n",
    "- “Area 2 has higher density”\n",
    "- “Both areas have the same density”"
   ]
  },
  {
   "cell_type": "code",
   "execution_count": 57,
   "id": "63351d63",
   "metadata": {},
   "outputs": [
    {
     "name": "stdout",
     "output_type": "stream",
     "text": [
      "Area 2 has higher density\n"
     ]
    }
   ],
   "source": [
    "def compare_density(density1, density2):\n",
    "    if density1 > density2:\n",
    "        print(\"Area 1 has higher density\")\n",
    "    elif density1 < density2:\n",
    "        print(\"Area 2 has higher density\")\n",
    "    else:\n",
    "        print(\"Both areas have the same density\")\n",
    "\n",
    "# density area\n",
    "density_area1 = 900\n",
    "density_area2 = 980\n",
    "\n",
    "compare_density(density_area1, density_area2)\n",
    "    "
   ]
  },
  {
   "cell_type": "markdown",
   "id": "0e7c4ab1",
   "metadata": {},
   "source": [
    "Then we can test the function by passing the values of `sg_density` and `hk_density` as arguments."
   ]
  },
  {
   "cell_type": "code",
   "execution_count": 71,
   "id": "6f1a4362",
   "metadata": {},
   "outputs": [
    {
     "name": "stdout",
     "output_type": "stream",
     "text": [
      "Singapore has higher density\n"
     ]
    }
   ],
   "source": [
    "def compare_density(density1, density2):\n",
    "    if density1 > density2:\n",
    "        print(\"Singapore has higher density\")\n",
    "    elif density1 < density2:\n",
    "        print(\"HongKong has higher density\")\n",
    "    else:\n",
    "        print(\"Both areas have the same density\")\n",
    "\n",
    "# Population densities of Singapore and Hong Kong\n",
    "sg_density = 8357.142857142857\n",
    "hk_density = 7142.857142857143 \n",
    "\n",
    "# Test the function by comparing Singapore and HongKong's densities\n",
    "compare_density(sg_density, hk_density)"
   ]
  },
  {
   "cell_type": "markdown",
   "id": "49fae04b",
   "metadata": {},
   "source": [
    "Q10. What will be the result of the following loop?\n",
    "\n",
    "```\n",
    "for year in range(2022, 2031, 2):\n",
    "    print(year)\n",
    "```"
   ]
  },
  {
   "cell_type": "code",
   "execution_count": 72,
   "id": "48ab8047",
   "metadata": {},
   "outputs": [
    {
     "name": "stdout",
     "output_type": "stream",
     "text": [
      "2022\n",
      "2024\n",
      "2026\n",
      "2028\n",
      "2030\n"
     ]
    }
   ],
   "source": [
    "for year in range(2022, 2031, 2):\n",
    "    print(year)"
   ]
  },
  {
   "cell_type": "markdown",
   "id": "359280f1",
   "metadata": {},
   "source": [
    "Q.11 Write a function projected_population() that receives three arguments:\n",
    "- Current population, in millions\n",
    "- Growth rate\n",
    "- Current year\n"
   ]
  },
  {
   "cell_type": "markdown",
   "id": "43b00110",
   "metadata": {},
   "source": [
    "The function should:\n",
    "- set the projected population to the current population\n",
    "- set the projected year to the current year\n",
    "- calculate the difference between the projected population and current population\n",
    "\n",
    "while the difference is between -1 and 1:\n",
    "1. print the projected year and the projected population\n",
    "2. calculate the projected population = projected population + projected population * growth rate / 100\n",
    "3. update the projected year \n",
    "4. recalculate the difference between the projected propulation and current population"
   ]
  },
  {
   "cell_type": "code",
   "execution_count": 74,
   "id": "8e62f54e",
   "metadata": {},
   "outputs": [
    {
     "name": "stdout",
     "output_type": "stream",
     "text": [
      "Year 2023: 5.85 million\n",
      "Year 2024: 5.94 million\n",
      "Year 2025: 6.03 million\n",
      "Year 2026: 6.12 million\n",
      "Year 2027: 6.21 million\n",
      "Year 2028: 6.30 million\n",
      "Year 2029: 6.40 million\n",
      "Year 2030: 6.49 million\n",
      "Year 2031: 6.59 million\n",
      "Year 2032: 6.69 million\n",
      "Year 2033: 6.79 million\n",
      "Year 2034: 6.89 million (Higher than the current population)\n"
     ]
    }
   ],
   "source": [
    "def projected_population(current_pop, growth_rate, current_year):\n",
    "    # intial projected population and year\n",
    "    projected_population = current_population\n",
    "    projected_year = current_year\n",
    "\n",
    "    # Calculate the initial difference between projected and current population\n",
    "    population_difference = projected_population - current_population\n",
    "\n",
    "    # while the difference is between -1 and 1, continue the calculations\n",
    "    while -1 < population_difference < 1:\n",
    "        # Print the projected year and population\n",
    "        print(f\"Year {projected_year}: {projected_population:.2f} million\")\n",
    "\n",
    "        # Calculate the projected population based on the growth rate\n",
    "        projected_population += projected_population * growth_rate / 100\n",
    "\n",
    "        # Update the projected year\n",
    "        projected_year += 1\n",
    "\n",
    "        # Recalculate the difference between projected and current population\n",
    "        population_difference = projected_population - current_population\n",
    "\n",
    "    # Print a message when the difference is outside the range of -1 to 1\n",
    "    if population_difference >= 1:\n",
    "        print(f\"Year {projected_year}: {projected_population:.2f} million (Higher than the current population)\")\n",
    "    else:\n",
    "        print(f\"Year {projected_year}: {projected_population:.2f} million (Higher than the current population)\")\n",
    "\n",
    "# example\n",
    "current_population = 5.85 \n",
    "growth_rate = 1.5          \n",
    "current_year = 2023       \n",
    "\n",
    "# Call the function with example data\n",
    "projected_population(current_population, growth_rate, current_year)"
   ]
  },
  {
   "cell_type": "code",
   "execution_count": 75,
   "id": "35c3f670",
   "metadata": {},
   "outputs": [
    {
     "name": "stdout",
     "output_type": "stream",
     "text": [
      "Thailand's population growth\n",
      "Year 2020: 5.85 million\n",
      "Year 2021: 5.87 million\n",
      "Year 2022: 5.89 million\n",
      "Year 2023: 5.90 million\n",
      "Year 2024: 5.92 million\n",
      "Year 2025: 5.94 million\n",
      "Year 2026: 5.96 million\n",
      "Year 2027: 5.97 million\n",
      "Year 2028: 5.99 million\n",
      "Year 2029: 6.01 million\n",
      "Year 2030: 6.03 million\n",
      "Year 2031: 6.05 million\n",
      "Year 2032: 6.06 million\n",
      "Year 2033: 6.08 million\n",
      "Year 2034: 6.10 million\n",
      "Year 2035: 6.12 million\n",
      "Year 2036: 6.14 million\n",
      "Year 2037: 6.16 million\n",
      "Year 2038: 6.17 million\n",
      "Year 2039: 6.19 million\n",
      "Year 2040: 6.21 million\n",
      "Year 2041: 6.23 million\n",
      "Year 2042: 6.25 million\n",
      "Year 2043: 6.27 million\n",
      "Year 2044: 6.29 million\n",
      "Year 2045: 6.30 million\n",
      "Year 2046: 6.32 million\n",
      "Year 2047: 6.34 million\n",
      "Year 2048: 6.36 million\n",
      "Year 2049: 6.38 million\n",
      "Year 2050: 6.40 million\n",
      "Year 2051: 6.42 million\n",
      "Year 2052: 6.44 million\n",
      "Year 2053: 6.46 million\n",
      "Year 2054: 6.48 million\n",
      "Year 2055: 6.50 million\n",
      "Year 2056: 6.52 million\n",
      "Year 2057: 6.54 million\n",
      "Year 2058: 6.56 million\n",
      "Year 2059: 6.57 million\n",
      "Year 2060: 6.59 million\n",
      "Year 2061: 6.61 million\n",
      "Year 2062: 6.63 million\n",
      "Year 2063: 6.65 million\n",
      "Year 2064: 6.67 million\n",
      "Year 2065: 6.69 million\n",
      "Year 2066: 6.71 million\n",
      "Year 2067: 6.73 million\n",
      "Year 2068: 6.75 million\n",
      "Year 2069: 6.77 million\n",
      "Year 2070: 6.80 million\n",
      "Year 2071: 6.82 million\n",
      "Year 2072: 6.84 million\n",
      "Year 2073: 6.86 million (Higher than the current population)\n"
     ]
    }
   ],
   "source": [
    "# testing with Thailand\n",
    "print(\"Thailand's population growth\")\n",
    "projected_population(current_pop = 69.8, growth_rate = 0.3, current_year = 2020)"
   ]
  },
  {
   "cell_type": "markdown",
   "id": "09df059d",
   "metadata": {},
   "source": [
    "Q.12 Write a function called `string_info()` which takes in a string argument and returns four values:\n",
    "- the first 3 characters\n",
    "- last 3 characters\n",
    "- the number of characters in the string\n",
    "- the string with each word capitalized"
   ]
  },
  {
   "cell_type": "code",
   "execution_count": 92,
   "id": "16b08e8d",
   "metadata": {},
   "outputs": [
    {
     "name": "stdout",
     "output_type": "stream",
     "text": [
      "First 3 characters                 : E1E\n",
      "Last 3 characters                  : ari\n",
      "Number of characters in the string : 30\n",
      "String with each word capitalized  : E1E121082_Nur Hikmah Wulandari\n"
     ]
    }
   ],
   "source": [
    "def string_info(word): \n",
    "    # Get the first 3 characters\n",
    "    first_3_chars = word[:3]\n",
    "\n",
    "    # Get the last 3 characters\n",
    "    last_3_chars = word[-3:]\n",
    "\n",
    "    # Get the number of characters in the string\n",
    "    num_chars = len(word)\n",
    "\n",
    "    # Capitalize each word in the string\n",
    "    capitalized_word = word.title()\n",
    "\n",
    "    # Return the four values as a tuple\n",
    "    return first_3_chars, last_3_chars, num_chars, capitalized_word\n",
    "\n",
    "# Example\n",
    "input_string = \"E1E121082_nur hikmah WULANdari\"\n",
    "info = string_info(input_string)\n",
    "\n",
    "# Print the results\n",
    "print(\"First 3 characters                 :\", info[0])\n",
    "print(\"Last 3 characters                  :\", info[1])\n",
    "print(\"Number of characters in the string :\", info[2])\n",
    "print(\"String with each word capitalized  :\", info[3])"
   ]
  },
  {
   "cell_type": "code",
   "execution_count": 93,
   "id": "5858639b",
   "metadata": {},
   "outputs": [
    {
     "name": "stdout",
     "output_type": "stream",
     "text": [
      "First 3 characters                 : dat\n",
      "Last 3 characters                  : nce\n",
      "Number of characters in the string : 12\n",
      "String with each word capitalized  : Data Science\n"
     ]
    }
   ],
   "source": [
    "#calling the function\n",
    "start, end, num, title = string_info(\"data science\")\n",
    "\n",
    "# Printing the results\n",
    "print(\"First 3 characters                 :\", start)\n",
    "print(\"Last 3 characters                  :\", end)\n",
    "print(\"Number of characters in the string :\", num)\n",
    "print(\"String with each word capitalized  :\", title)"
   ]
  },
  {
   "cell_type": "code",
   "execution_count": 90,
   "id": "f286a42c",
   "metadata": {},
   "outputs": [
    {
     "name": "stdout",
     "output_type": "stream",
     "text": [
      "('dat', 'nce', 12, 'Data Science')\n"
     ]
    }
   ],
   "source": [
    "# print what's returned\n",
    "print(string_info(\"data science\"))"
   ]
  },
  {
   "cell_type": "markdown",
   "id": "f33e1677",
   "metadata": {},
   "source": [
    "# Congratulations! \n",
    "\n",
    "You have reached the end of this notebook! Hope you have been able to practice and review the fundamental concepts in Python coding and we will do more next week!"
   ]
  }
 ],
 "metadata": {
  "kernelspec": {
   "display_name": "Python 3 (ipykernel)",
   "language": "python",
   "name": "python3"
  },
  "language_info": {
   "codemirror_mode": {
    "name": "ipython",
    "version": 3
   },
   "file_extension": ".py",
   "mimetype": "text/x-python",
   "name": "python",
   "nbconvert_exporter": "python",
   "pygments_lexer": "ipython3",
   "version": "3.11.4"
  }
 },
 "nbformat": 4,
 "nbformat_minor": 5
}
